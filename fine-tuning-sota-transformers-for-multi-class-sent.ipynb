{
 "cells": [
  {
   "cell_type": "code",
   "execution_count": 1,
   "metadata": {
    "_cell_guid": "b1076dfc-b9ad-4769-8c92-a6c4dae69d19",
    "_uuid": "8f2839f25d086af736a60e9eeb907d3b93b6e0e5"
   },
   "outputs": [
    {
     "name": "stdout",
     "output_type": "stream",
     "text": [
      "\u001b[33mWARNING: Connection timed out while downloading.\u001b[0m\u001b[33m\n",
      "\u001b[1;31merror\u001b[0m: \u001b[1mincomplete-download\u001b[0m\n",
      "\n",
      "\u001b[31m×\u001b[0m Download failed because not enough bytes were received (216.5 MB/821.0 MB)\n",
      "\u001b[31m╰─>\u001b[0m URL: \u001b[4;94mhttps://files.pythonhosted.org/packages/3a/24/efe2f520d75274fc06b695c616415a1e8a1021d87a13c68ff9dce733d088/torch-2.7.1-cp313-cp313-manylinux_2_28_x86_64.whl\u001b[0m\n",
      "\n",
      "\u001b[1;35mnote\u001b[0m: This is an issue with network connectivity, not pip.\n",
      "\u001b[1;36mhint\u001b[0m: Consider using --resume-retries to enable download resumption.\n"
     ]
    }
   ],
   "source": [
    "!pip install -q transformers datasets accelerate"
   ]
  },
  {
   "cell_type": "code",
   "execution_count": 2,
   "metadata": {
    "execution": {
     "iopub.execute_input": "2025-06-23T01:37:12.437838Z",
     "iopub.status.busy": "2025-06-23T01:37:12.436778Z",
     "iopub.status.idle": "2025-06-23T01:37:58.872898Z",
     "shell.execute_reply": "2025-06-23T01:37:58.866911Z",
     "shell.execute_reply.started": "2025-06-23T01:37:12.437810Z"
    }
   },
   "outputs": [
    {
     "name": "stdout",
     "output_type": "stream",
     "text": [
      "\u001b[33mWARNING: Running pip as the 'root' user can result in broken permissions and conflicting behaviour with the system package manager. It is recommended to use a virtual environment instead: https://pip.pypa.io/warnings/venv\u001b[0m\u001b[33m\n",
      "\u001b[0m\n",
      "\u001b[1m[\u001b[0m\u001b[34;49mnotice\u001b[0m\u001b[1;39;49m]\u001b[0m\u001b[39;49m A new release of pip is available: \u001b[0m\u001b[31;49m23.0.1\u001b[0m\u001b[39;49m -> \u001b[0m\u001b[32;49m25.1.1\u001b[0m\n",
      "\u001b[1m[\u001b[0m\u001b[34;49mnotice\u001b[0m\u001b[1;39;49m]\u001b[0m\u001b[39;49m To update, run: \u001b[0m\u001b[32;49mpip install --upgrade pip\u001b[0m\n",
      "Collecting en-core-web-sm==3.8.0\n",
      "  Downloading https://github.com/explosion/spacy-models/releases/download/en_core_web_sm-3.8.0/en_core_web_sm-3.8.0-py3-none-any.whl (12.8 MB)\n",
      "\u001b[2K     \u001b[90m━━━━━━━━━━━━━━━━━━━━━━━━━━━━━━━━━━━━━━━━\u001b[0m \u001b[32m12.8/12.8 MB\u001b[0m \u001b[31m23.8 MB/s\u001b[0m eta \u001b[36m0:00:00\u001b[0m00:01\u001b[0m00:01\u001b[0m\n",
      "\u001b[?25hInstalling collected packages: en-core-web-sm\n",
      "Successfully installed en-core-web-sm-3.8.0\n",
      "\u001b[33mWARNING: Running pip as the 'root' user can result in broken permissions and conflicting behaviour with the system package manager. It is recommended to use a virtual environment instead: https://pip.pypa.io/warnings/venv\u001b[0m\u001b[33m\n",
      "\u001b[0m\n",
      "\u001b[1m[\u001b[0m\u001b[34;49mnotice\u001b[0m\u001b[1;39;49m]\u001b[0m\u001b[39;49m A new release of pip is available: \u001b[0m\u001b[31;49m23.0.1\u001b[0m\u001b[39;49m -> \u001b[0m\u001b[32;49m25.1.1\u001b[0m\n",
      "\u001b[1m[\u001b[0m\u001b[34;49mnotice\u001b[0m\u001b[1;39;49m]\u001b[0m\u001b[39;49m To update, run: \u001b[0m\u001b[32;49mpip install --upgrade pip\u001b[0m\n",
      "\u001b[38;5;2m✔ Download and installation successful\u001b[0m\n",
      "You can now load the package via spacy.load('en_core_web_sm')\n"
     ]
    }
   ],
   "source": [
    "!pip install -q spacy\n",
    "!python -m spacy download en_core_web_sm"
   ]
  },
  {
   "cell_type": "markdown",
   "metadata": {},
   "source": [
    "# Importing libraries"
   ]
  },
  {
   "cell_type": "code",
   "execution_count": 3,
   "metadata": {
    "execution": {
     "iopub.execute_input": "2025-06-23T01:37:58.875696Z",
     "iopub.status.busy": "2025-06-23T01:37:58.875466Z",
     "iopub.status.idle": "2025-06-23T01:38:40.487706Z",
     "shell.execute_reply": "2025-06-23T01:38:40.482022Z",
     "shell.execute_reply.started": "2025-06-23T01:37:58.875673Z"
    }
   },
   "outputs": [
    {
     "name": "stderr",
     "output_type": "stream",
     "text": [
      "/usr/local/lib/python3.10/site-packages/tqdm/auto.py:21: TqdmWarning: IProgress not found. Please update jupyter and ipywidgets. See https://ipywidgets.readthedocs.io/en/stable/user_install.html\n",
      "  from .autonotebook import tqdm as notebook_tqdm\n",
      "/usr/local/lib/python3.10/site-packages/torch_xla/__init__.py:251: UserWarning: `tensorflow` can conflict with `torch-xla`. Prefer `tensorflow-cpu` when using PyTorch/XLA. To silence this warning, `pip uninstall -y tensorflow && pip install tensorflow-cpu`. If you are in a notebook environment such as Colab or Kaggle, restart your notebook runtime afterwards.\n",
      "  warnings.warn(\n",
      "WARNING: Logging before InitGoogle() is written to STDERR\n",
      "E0000 00:00:1750642705.023019      10 common_lib.cc:612] Could not set metric server port: INVALID_ARGUMENT: Could not find SliceBuilder port 8471 in any of the 0 ports provided in `tpu_process_addresses`=\"local\"\n",
      "=== Source Location Trace: ===\n",
      "learning/45eac/tfrc/runtime/common_lib.cc:230\n"
     ]
    }
   ],
   "source": [
    "import os\n",
    "os.environ[\"WANDB_DISABLED\"] = \"true\"\n",
    "\n",
    "import pandas as pd\n",
    "import numpy as np\n",
    "\n",
    "import matplotlib.pyplot as plt\n",
    "import seaborn as sns\n",
    "\n",
    "from transformers import AutoTokenizer, AutoModelForSequenceClassification, TrainingArguments, Trainer, TrainerCallback\n",
    "from datasets import load_from_disk\n",
    "from datasets import Dataset\n",
    "import time\n",
    "\n",
    "from sklearn.model_selection import train_test_split\n",
    "from sklearn.metrics import accuracy_score, precision_recall_fscore_support\n",
    "import spacy\n",
    "\n",
    "nlp = spacy.load(\"en_core_web_sm\")"
   ]
  },
  {
   "cell_type": "markdown",
   "metadata": {},
   "source": [
    "# Reading the Data"
   ]
  },
  {
   "cell_type": "code",
   "execution_count": 4,
   "metadata": {
    "execution": {
     "iopub.execute_input": "2025-06-23T01:38:40.490237Z",
     "iopub.status.busy": "2025-06-23T01:38:40.489650Z",
     "iopub.status.idle": "2025-06-23T01:38:41.420284Z",
     "shell.execute_reply": "2025-06-23T01:38:41.414263Z",
     "shell.execute_reply.started": "2025-06-23T01:38:40.490211Z"
    }
   },
   "outputs": [],
   "source": [
    "data = pd.read_csv(\"/kaggle/input/sentiment-analysis-dataset/sentiment_data.csv\",index_col=0)\n",
    "active_data = data.copy()"
   ]
  },
  {
   "cell_type": "markdown",
   "metadata": {},
   "source": [
    "We preserve the original raw dataset in `data` and create a working copy called `active_data` for all preprocessing steps. \n",
    "\n",
    "This ensures the original data remains untouched and allows safe experimentation or reprocessing later."
   ]
  },
  {
   "cell_type": "code",
   "execution_count": 5,
   "metadata": {
    "execution": {
     "iopub.execute_input": "2025-06-23T01:38:41.423514Z",
     "iopub.status.busy": "2025-06-23T01:38:41.423244Z",
     "iopub.status.idle": "2025-06-23T01:38:41.455617Z",
     "shell.execute_reply": "2025-06-23T01:38:41.450076Z",
     "shell.execute_reply.started": "2025-06-23T01:38:41.423490Z"
    }
   },
   "outputs": [
    {
     "data": {
      "text/html": [
       "<div>\n",
       "<style scoped>\n",
       "    .dataframe tbody tr th:only-of-type {\n",
       "        vertical-align: middle;\n",
       "    }\n",
       "\n",
       "    .dataframe tbody tr th {\n",
       "        vertical-align: top;\n",
       "    }\n",
       "\n",
       "    .dataframe thead th {\n",
       "        text-align: right;\n",
       "    }\n",
       "</style>\n",
       "<table border=\"1\" class=\"dataframe\">\n",
       "  <thead>\n",
       "    <tr style=\"text-align: right;\">\n",
       "      <th></th>\n",
       "      <th>Comment</th>\n",
       "      <th>Sentiment</th>\n",
       "    </tr>\n",
       "  </thead>\n",
       "  <tbody>\n",
       "    <tr>\n",
       "      <th>0</th>\n",
       "      <td>lets forget apple pay required brand new iphon...</td>\n",
       "      <td>1</td>\n",
       "    </tr>\n",
       "    <tr>\n",
       "      <th>1</th>\n",
       "      <td>nz retailers don’t even contactless credit car...</td>\n",
       "      <td>0</td>\n",
       "    </tr>\n",
       "    <tr>\n",
       "      <th>2</th>\n",
       "      <td>forever acknowledge channel help lessons ideas...</td>\n",
       "      <td>2</td>\n",
       "    </tr>\n",
       "    <tr>\n",
       "      <th>3</th>\n",
       "      <td>whenever go place doesn’t take apple pay doesn...</td>\n",
       "      <td>0</td>\n",
       "    </tr>\n",
       "    <tr>\n",
       "      <th>4</th>\n",
       "      <td>apple pay convenient secure easy use used kore...</td>\n",
       "      <td>2</td>\n",
       "    </tr>\n",
       "  </tbody>\n",
       "</table>\n",
       "</div>"
      ],
      "text/plain": [
       "                                             Comment  Sentiment\n",
       "0  lets forget apple pay required brand new iphon...          1\n",
       "1  nz retailers don’t even contactless credit car...          0\n",
       "2  forever acknowledge channel help lessons ideas...          2\n",
       "3  whenever go place doesn’t take apple pay doesn...          0\n",
       "4  apple pay convenient secure easy use used kore...          2"
      ]
     },
     "execution_count": 5,
     "metadata": {},
     "output_type": "execute_result"
    }
   ],
   "source": [
    "active_data.head()"
   ]
  },
  {
   "cell_type": "code",
   "execution_count": 6,
   "metadata": {
    "execution": {
     "iopub.execute_input": "2025-06-23T01:38:41.456833Z",
     "iopub.status.busy": "2025-06-23T01:38:41.456559Z",
     "iopub.status.idle": "2025-06-23T01:38:41.491377Z",
     "shell.execute_reply": "2025-06-23T01:38:41.486424Z",
     "shell.execute_reply.started": "2025-06-23T01:38:41.456808Z"
    }
   },
   "outputs": [
    {
     "name": "stdout",
     "output_type": "stream",
     "text": [
      "<class 'pandas.core.frame.DataFrame'>\n",
      "Index: 241145 entries, 0 to 241925\n",
      "Data columns (total 2 columns):\n",
      " #   Column     Non-Null Count   Dtype \n",
      "---  ------     --------------   ----- \n",
      " 0   Comment    240928 non-null  object\n",
      " 1   Sentiment  241145 non-null  int64 \n",
      "dtypes: int64(1), object(1)\n",
      "memory usage: 5.5+ MB\n"
     ]
    }
   ],
   "source": [
    "active_data.info()"
   ]
  },
  {
   "cell_type": "markdown",
   "metadata": {},
   "source": [
    "We observed that while the dataset contains 241,145 rows, only 240,928 of them have entries in the `Comment` column. This means 217 rows are missing the actual comment text, which is a critical input for our sentiment classification task. \n",
    "\n",
    "Since text-based models like BERT cannot operate on missing input, we will remove these rows to maintain data quality and avoid issues during tokenization and training.\n"
   ]
  },
  {
   "cell_type": "code",
   "execution_count": 7,
   "metadata": {
    "execution": {
     "iopub.execute_input": "2025-06-23T01:38:41.494018Z",
     "iopub.status.busy": "2025-06-23T01:38:41.493741Z",
     "iopub.status.idle": "2025-06-23T01:38:41.548234Z",
     "shell.execute_reply": "2025-06-23T01:38:41.543427Z",
     "shell.execute_reply.started": "2025-06-23T01:38:41.493996Z"
    }
   },
   "outputs": [],
   "source": [
    "active_data = active_data.dropna(subset=['Comment'])"
   ]
  },
  {
   "cell_type": "markdown",
   "metadata": {},
   "source": [
    "# EDA"
   ]
  },
  {
   "cell_type": "markdown",
   "metadata": {},
   "source": [
    "Before preparing the data for training, it's essential to perform basic exploratory data analysis (EDA) to better understand the distribution of sentiment classes. This helps us identify any class imbalance, which can significantly affect model performance and evaluation metrics."
   ]
  },
  {
   "cell_type": "code",
   "execution_count": 8,
   "metadata": {
    "execution": {
     "iopub.execute_input": "2025-06-23T01:38:41.551261Z",
     "iopub.status.busy": "2025-06-23T01:38:41.550986Z",
     "iopub.status.idle": "2025-06-23T01:38:42.242745Z",
     "shell.execute_reply": "2025-06-23T01:38:42.237830Z",
     "shell.execute_reply.started": "2025-06-23T01:38:41.551235Z"
    }
   },
   "outputs": [
    {
     "name": "stderr",
     "output_type": "stream",
     "text": [
      "/tmp/ipykernel_10/3639157558.py:1: FutureWarning: \n",
      "\n",
      "Passing `palette` without assigning `hue` is deprecated and will be removed in v0.14.0. Assign the `x` variable to `hue` and set `legend=False` for the same effect.\n",
      "\n",
      "  sns.countplot(x='Sentiment', data=active_data, palette='Set2')\n"
     ]
    },
    {
     "data": {
      "image/png": "[encoded data removed]",
      "text/plain": [
       "<Figure size 640x480 with 1 Axes>"
      ]
     },
     "metadata": {},
     "output_type": "display_data"
    }
   ],
   "source": [
    "sns.countplot(x='Sentiment', data=active_data, palette='Set2')\n",
    "\n",
    "plt.title(\"Distribution of Sentiment Classes\")\n",
    "plt.xlabel(\"Sentiment Class\")\n",
    "plt.ylabel(\"Number of Comments\")\n",
    "plt.xticks(ticks=[0, 1, 2], labels=[\"Negative\", \"Neutral\", \"Positive\"])  \n",
    "plt.show()"
   ]
  },
  {
   "cell_type": "code",
   "execution_count": 9,
   "metadata": {
    "execution": {
     "iopub.execute_input": "2025-06-23T01:38:42.244822Z",
     "iopub.status.busy": "2025-06-23T01:38:42.244564Z",
     "iopub.status.idle": "2025-06-23T01:38:42.262437Z",
     "shell.execute_reply": "2025-06-23T01:38:42.257776Z",
     "shell.execute_reply.started": "2025-06-23T01:38:42.244798Z"
    }
   },
   "outputs": [
    {
     "data": {
      "text/plain": [
       "Sentiment\n",
       "2    42.770454\n",
       "1    34.357567\n",
       "0    22.871978\n",
       "Name: proportion, dtype: float64"
      ]
     },
     "execution_count": 9,
     "metadata": {},
     "output_type": "execute_result"
    }
   ],
   "source": [
    "active_data['Sentiment'].value_counts(normalize=True) * 100"
   ]
  },
  {
   "cell_type": "markdown",
   "metadata": {},
   "source": [
    "The sentiment distribution in the dataset is slightly imbalanced:\n",
    "- Positive: ~43%\n",
    "- Neutral: ~34%\n",
    "- Negative: ~23%"
   ]
  },
  {
   "cell_type": "code",
   "execution_count": 10,
   "metadata": {
    "execution": {
     "iopub.execute_input": "2025-06-23T01:38:42.264649Z",
     "iopub.status.busy": "2025-06-23T01:38:42.264415Z",
     "iopub.status.idle": "2025-06-23T01:42:17.885855Z",
     "shell.execute_reply": "2025-06-23T01:42:17.881254Z",
     "shell.execute_reply.started": "2025-06-23T01:38:42.264626Z"
    }
   },
   "outputs": [],
   "source": [
    "docs = list(nlp.pipe(active_data['Comment'], disable=[\"ner\", \"parser\"]))\n",
    "active_data['token_count'] = [len(doc) for doc in docs]"
   ]
  },
  {
   "cell_type": "code",
   "execution_count": 11,
   "metadata": {
    "execution": {
     "iopub.execute_input": "2025-06-23T01:42:17.888577Z",
     "iopub.status.busy": "2025-06-23T01:42:17.888304Z",
     "iopub.status.idle": "2025-06-23T01:42:17.912677Z",
     "shell.execute_reply": "2025-06-23T01:42:17.907587Z",
     "shell.execute_reply.started": "2025-06-23T01:42:17.888550Z"
    }
   },
   "outputs": [
    {
     "data": {
      "text/plain": [
       "count    240928.000000\n",
       "mean         13.291444\n",
       "std          10.621227\n",
       "min           1.000000\n",
       "25%           7.000000\n",
       "50%          11.000000\n",
       "75%          18.000000\n",
       "max        1141.000000\n",
       "Name: token_count, dtype: float64"
      ]
     },
     "execution_count": 11,
     "metadata": {},
     "output_type": "execute_result"
    }
   ],
   "source": [
    "active_data['token_count'].describe()"
   ]
  },
  {
   "cell_type": "code",
   "execution_count": 12,
   "metadata": {
    "execution": {
     "iopub.execute_input": "2025-06-23T01:42:17.917200Z",
     "iopub.status.busy": "2025-06-23T01:42:17.916904Z",
     "iopub.status.idle": "2025-06-23T01:42:17.933804Z",
     "shell.execute_reply": "2025-06-23T01:42:17.930492Z",
     "shell.execute_reply.started": "2025-06-23T01:42:17.917174Z"
    }
   },
   "outputs": [
    {
     "data": {
      "text/html": [
       "<div>\n",
       "<style scoped>\n",
       "    .dataframe tbody tr th:only-of-type {\n",
       "        vertical-align: middle;\n",
       "    }\n",
       "\n",
       "    .dataframe tbody tr th {\n",
       "        vertical-align: top;\n",
       "    }\n",
       "\n",
       "    .dataframe thead th {\n",
       "        text-align: right;\n",
       "    }\n",
       "</style>\n",
       "<table border=\"1\" class=\"dataframe\">\n",
       "  <thead>\n",
       "    <tr style=\"text-align: right;\">\n",
       "      <th></th>\n",
       "      <th>Comment</th>\n",
       "      <th>Sentiment</th>\n",
       "      <th>token_count</th>\n",
       "    </tr>\n",
       "  </thead>\n",
       "  <tbody>\n",
       "    <tr>\n",
       "      <th>3984</th>\n",
       "      <td>timestamps took forever intro ——————————— orig...</td>\n",
       "      <td>1</td>\n",
       "      <td>1141</td>\n",
       "    </tr>\n",
       "    <tr>\n",
       "      <th>10493</th>\n",
       "      <td>tracklist kanisan ft wishes dreams morning moo...</td>\n",
       "      <td>1</td>\n",
       "      <td>708</td>\n",
       "    </tr>\n",
       "    <tr>\n",
       "      <th>16407</th>\n",
       "      <td>description exclusive video footage panel star...</td>\n",
       "      <td>1</td>\n",
       "      <td>664</td>\n",
       "    </tr>\n",
       "    <tr>\n",
       "      <th>18276</th>\n",
       "      <td>introduction video speaker ml agenda core conc...</td>\n",
       "      <td>1</td>\n",
       "      <td>563</td>\n",
       "    </tr>\n",
       "  </tbody>\n",
       "</table>\n",
       "</div>"
      ],
      "text/plain": [
       "                                                 Comment  Sentiment  \\\n",
       "3984   timestamps took forever intro ——————————— orig...          1   \n",
       "10493  tracklist kanisan ft wishes dreams morning moo...          1   \n",
       "16407  description exclusive video footage panel star...          1   \n",
       "18276  introduction video speaker ml agenda core conc...          1   \n",
       "\n",
       "       token_count  \n",
       "3984          1141  \n",
       "10493          708  \n",
       "16407          664  \n",
       "18276          563  "
      ]
     },
     "execution_count": 12,
     "metadata": {},
     "output_type": "execute_result"
    }
   ],
   "source": [
    "active_data[active_data['token_count'] >= 512]"
   ]
  },
  {
   "cell_type": "markdown",
   "metadata": {},
   "source": [
    "We analyzed the token count per comment and found only 4 comments exceeding 512 tokens — the standard maximum input size for transformer models like BERT. These outliers represent just ~0.0016% of the entire dataset.\n",
    "\n",
    "Moreover, all 4 comments belong to the *positive* sentiment class, which is already the majority class in our dataset. \n",
    "\n",
    "Removing them not only avoids unnecessary complexity but also slightly improves class balance.\n",
    "\n",
    "Therefore, we chose to drop these examples"
   ]
  },
  {
   "cell_type": "code",
   "execution_count": 13,
   "metadata": {
    "execution": {
     "iopub.execute_input": "2025-06-23T01:42:17.937634Z",
     "iopub.status.busy": "2025-06-23T01:42:17.937378Z",
     "iopub.status.idle": "2025-06-23T01:42:17.968476Z",
     "shell.execute_reply": "2025-06-23T01:42:17.963060Z",
     "shell.execute_reply.started": "2025-06-23T01:42:17.937609Z"
    }
   },
   "outputs": [],
   "source": [
    "active_data = active_data[active_data['token_count'] <= 512].reset_index(drop=True)"
   ]
  },
  {
   "cell_type": "code",
   "execution_count": 14,
   "metadata": {
    "execution": {
     "iopub.execute_input": "2025-06-23T01:42:17.970861Z",
     "iopub.status.busy": "2025-06-23T01:42:17.970605Z",
     "iopub.status.idle": "2025-06-23T01:42:19.188573Z",
     "shell.execute_reply": "2025-06-23T01:42:19.183278Z",
     "shell.execute_reply.started": "2025-06-23T01:42:17.970839Z"
    }
   },
   "outputs": [
    {
     "data": {
      "image/png": "[encoded data removed]",
      "text/plain": [
       "<Figure size 640x480 with 1 Axes>"
      ]
     },
     "metadata": {},
     "output_type": "display_data"
    }
   ],
   "source": [
    "sns.histplot(active_data['token_count'], bins=70, kde=True, color='royalblue')\n",
    "plt.title(\"Comment Token Count\")\n",
    "plt.xlabel(\"Number of Tokens\")\n",
    "plt.ylabel(\"Number of Comments\")\n",
    "plt.show()"
   ]
  },
  {
   "cell_type": "code",
   "execution_count": 15,
   "metadata": {
    "execution": {
     "iopub.execute_input": "2025-06-23T01:42:19.190769Z",
     "iopub.status.busy": "2025-06-23T01:42:19.190549Z",
     "iopub.status.idle": "2025-06-23T01:42:19.213276Z",
     "shell.execute_reply": "2025-06-23T01:42:19.208342Z",
     "shell.execute_reply.started": "2025-06-23T01:42:19.190741Z"
    }
   },
   "outputs": [
    {
     "data": {
      "text/plain": [
       "count    240924.000000\n",
       "mean         13.278897\n",
       "std          10.125150\n",
       "min           1.000000\n",
       "25%           7.000000\n",
       "50%          11.000000\n",
       "75%          18.000000\n",
       "max         502.000000\n",
       "Name: token_count, dtype: float64"
      ]
     },
     "execution_count": 15,
     "metadata": {},
     "output_type": "execute_result"
    }
   ],
   "source": [
    "active_data['token_count'].describe()"
   ]
  },
  {
   "cell_type": "markdown",
   "metadata": {},
   "source": [
    "After dropping the 4 extreme outliers, we re-evaluated the token length distribution..The maximum token length is now 502, which is within the standard 512-token limit of most transformer models.\n",
    "\n",
    "While a few long comments remain, they are rare and pose no risk of truncation. Most comments fall well below 128 tokens. Therefore, we retain all remaining samples and proceed with a fixed `max_length` setting of 128 or 256 for consistent training.\n"
   ]
  },
  {
   "cell_type": "code",
   "execution_count": 16,
   "metadata": {
    "execution": {
     "iopub.execute_input": "2025-06-23T01:42:19.215219Z",
     "iopub.status.busy": "2025-06-23T01:42:19.215014Z",
     "iopub.status.idle": "2025-06-23T01:42:19.230529Z",
     "shell.execute_reply": "2025-06-23T01:42:19.226037Z",
     "shell.execute_reply.started": "2025-06-23T01:42:19.215199Z"
    }
   },
   "outputs": [
    {
     "data": {
      "text/html": [
       "<div>\n",
       "<style scoped>\n",
       "    .dataframe tbody tr th:only-of-type {\n",
       "        vertical-align: middle;\n",
       "    }\n",
       "\n",
       "    .dataframe tbody tr th {\n",
       "        vertical-align: top;\n",
       "    }\n",
       "\n",
       "    .dataframe thead th {\n",
       "        text-align: right;\n",
       "    }\n",
       "</style>\n",
       "<table border=\"1\" class=\"dataframe\">\n",
       "  <thead>\n",
       "    <tr style=\"text-align: right;\">\n",
       "      <th></th>\n",
       "      <th>Comment</th>\n",
       "      <th>Sentiment</th>\n",
       "      <th>token_count</th>\n",
       "    </tr>\n",
       "  </thead>\n",
       "  <tbody>\n",
       "    <tr>\n",
       "      <th>0</th>\n",
       "      <td>lets forget apple pay required brand new iphon...</td>\n",
       "      <td>1</td>\n",
       "      <td>34</td>\n",
       "    </tr>\n",
       "    <tr>\n",
       "      <th>1</th>\n",
       "      <td>nz retailers don’t even contactless credit car...</td>\n",
       "      <td>0</td>\n",
       "      <td>20</td>\n",
       "    </tr>\n",
       "    <tr>\n",
       "      <th>2</th>\n",
       "      <td>forever acknowledge channel help lessons ideas...</td>\n",
       "      <td>2</td>\n",
       "      <td>16</td>\n",
       "    </tr>\n",
       "    <tr>\n",
       "      <th>3</th>\n",
       "      <td>whenever go place doesn’t take apple pay doesn...</td>\n",
       "      <td>0</td>\n",
       "      <td>58</td>\n",
       "    </tr>\n",
       "    <tr>\n",
       "      <th>4</th>\n",
       "      <td>apple pay convenient secure easy use used kore...</td>\n",
       "      <td>2</td>\n",
       "      <td>14</td>\n",
       "    </tr>\n",
       "  </tbody>\n",
       "</table>\n",
       "</div>"
      ],
      "text/plain": [
       "                                             Comment  Sentiment  token_count\n",
       "0  lets forget apple pay required brand new iphon...          1           34\n",
       "1  nz retailers don’t even contactless credit car...          0           20\n",
       "2  forever acknowledge channel help lessons ideas...          2           16\n",
       "3  whenever go place doesn’t take apple pay doesn...          0           58\n",
       "4  apple pay convenient secure easy use used kore...          2           14"
      ]
     },
     "execution_count": 16,
     "metadata": {},
     "output_type": "execute_result"
    }
   ],
   "source": [
    "active_data.head()"
   ]
  },
  {
   "cell_type": "markdown",
   "metadata": {},
   "source": [
    "# Splitting Data"
   ]
  },
  {
   "cell_type": "code",
   "execution_count": 17,
   "metadata": {
    "execution": {
     "iopub.execute_input": "2025-06-23T01:42:19.231412Z",
     "iopub.status.busy": "2025-06-23T01:42:19.231214Z",
     "iopub.status.idle": "2025-06-23T01:42:19.468078Z",
     "shell.execute_reply": "2025-06-23T01:42:19.463355Z",
     "shell.execute_reply.started": "2025-06-23T01:42:19.231392Z"
    }
   },
   "outputs": [],
   "source": [
    "train_data, test_data = train_test_split(\n",
    "    active_data,\n",
    "    test_size=0.1,\n",
    "    stratify=active_data['Sentiment'],\n",
    "    random_state=42\n",
    ")\n",
    "\n",
    "train_data, val_data = train_test_split(\n",
    "    train_data,\n",
    "    test_size=0.1,  \n",
    "    stratify=train_data['Sentiment'],\n",
    "    random_state=42\n",
    ")"
   ]
  },
  {
   "cell_type": "code",
   "execution_count": 18,
   "metadata": {
    "execution": {
     "iopub.execute_input": "2025-06-23T01:42:19.471155Z",
     "iopub.status.busy": "2025-06-23T01:42:19.470894Z",
     "iopub.status.idle": "2025-06-23T01:42:19.482458Z",
     "shell.execute_reply": "2025-06-23T01:42:19.476387Z",
     "shell.execute_reply.started": "2025-06-23T01:42:19.471131Z"
    }
   },
   "outputs": [
    {
     "name": "stdout",
     "output_type": "stream",
     "text": [
      "Train size: 195147\n",
      "Validation size: 21684\n",
      "Test size: 24093\n"
     ]
    }
   ],
   "source": [
    "print(f\"Train size: {len(train_data)}\")\n",
    "print(f\"Validation size: {len(val_data)}\")\n",
    "print(f\"Test size: {len(test_data)}\")"
   ]
  },
  {
   "cell_type": "markdown",
   "metadata": {},
   "source": [
    "We split the dataset into training, validation, and test subsets using stratified sampling to ensure each class (negative, neutral, positive) is proportionally represented in all splits. This prevents bias from class imbalance and ensures that each split reflects the overall data distribution.\n",
    "\n",
    "- 72% of data is used for training\n",
    "- 8% is used for validation (model tuning & early stopping)\n",
    "- 20% is reserved for final testing and evaluation"
   ]
  },
  {
   "cell_type": "markdown",
   "metadata": {},
   "source": [
    "# Tokenization"
   ]
  },
  {
   "cell_type": "code",
   "execution_count": 19,
   "metadata": {
    "execution": {
     "iopub.execute_input": "2025-06-23T01:42:19.483445Z",
     "iopub.status.busy": "2025-06-23T01:42:19.483209Z",
     "iopub.status.idle": "2025-06-23T01:42:19.769711Z",
     "shell.execute_reply": "2025-06-23T01:42:19.765237Z",
     "shell.execute_reply.started": "2025-06-23T01:42:19.483411Z"
    }
   },
   "outputs": [],
   "source": [
    "train_ds = Dataset.from_pandas(train_data)\n",
    "val_ds = Dataset.from_pandas(val_data)\n",
    "test_ds = Dataset.from_pandas(test_data)"
   ]
  },
  {
   "cell_type": "code",
   "execution_count": 20,
   "metadata": {
    "execution": {
     "iopub.execute_input": "2025-06-23T01:42:19.770907Z",
     "iopub.status.busy": "2025-06-23T01:42:19.770681Z",
     "iopub.status.idle": "2025-06-23T01:42:19.782025Z",
     "shell.execute_reply": "2025-06-23T01:42:19.776134Z",
     "shell.execute_reply.started": "2025-06-23T01:42:19.770886Z"
    }
   },
   "outputs": [],
   "source": [
    "def preprocess_data(examples, tokenizer, max_length=128):\n",
    "    tokens = tokenizer(\n",
    "        examples[\"Comment\"],\n",
    "        truncation=True,\n",
    "        padding=\"max_length\",\n",
    "        max_length=max_length\n",
    "    )\n",
    "    tokens[\"labels\"] = examples[\"Sentiment\"]  \n",
    "    return tokens"
   ]
  },
  {
   "cell_type": "code",
   "execution_count": 21,
   "metadata": {
    "execution": {
     "iopub.execute_input": "2025-06-23T01:42:19.783004Z",
     "iopub.status.busy": "2025-06-23T01:42:19.782763Z",
     "iopub.status.idle": "2025-06-23T01:42:19.797523Z",
     "shell.execute_reply": "2025-06-23T01:42:19.792474Z",
     "shell.execute_reply.started": "2025-06-23T01:42:19.782981Z"
    }
   },
   "outputs": [],
   "source": [
    "def tokenize_and_save(tokenizer_name, train_ds, val_ds, test_ds, max_length=128):\n",
    "    print(f\"Tokenizing and saving datasets for {tokenizer_name}...\")\n",
    "\n",
    "    tokenizer = AutoTokenizer.from_pretrained(tokenizer_name)\n",
    "\n",
    "    tokenized_train = train_ds.map(lambda x: preprocess_data(x, tokenizer, max_length), batched=True)\n",
    "    tokenized_val = val_ds.map(lambda x: preprocess_data(x, tokenizer, max_length), batched=True)\n",
    "    tokenized_test = test_ds.map(lambda x: preprocess_data(x, tokenizer, max_length), batched=True)\n",
    "\n",
    "    tokenized_train.set_format(type=\"torch\", columns=[\"input_ids\", \"attention_mask\", \"labels\"])\n",
    "    tokenized_val.set_format(type=\"torch\", columns=[\"input_ids\", \"attention_mask\", \"labels\"])\n",
    "    tokenized_test.set_format(type=\"torch\", columns=[\"input_ids\", \"attention_mask\", \"labels\"])\n",
    "\n",
    "    save_dir = f\"/kaggle/working/tokenized_{tokenizer_name.replace('/', '_')}\"\n",
    "\n",
    "    tokenized_train.save_to_disk(os.path.join(save_dir, \"train\"))\n",
    "    tokenized_val.save_to_disk(os.path.join(save_dir, \"val\"))\n",
    "    tokenized_test.save_to_disk(os.path.join(save_dir, \"test\"))\n",
    "\n",
    "    print(f\"Datasets tokenized and saved under {save_dir}\")"
   ]
  },
  {
   "cell_type": "code",
   "execution_count": 22,
   "metadata": {
    "execution": {
     "iopub.execute_input": "2025-06-23T01:42:19.798436Z",
     "iopub.status.busy": "2025-06-23T01:42:19.798205Z",
     "iopub.status.idle": "2025-06-23T01:44:37.929425Z",
     "shell.execute_reply": "2025-06-23T01:44:37.923759Z",
     "shell.execute_reply.started": "2025-06-23T01:42:19.798412Z"
    }
   },
   "outputs": [
    {
     "name": "stdout",
     "output_type": "stream",
     "text": [
      "Tokenizing and saving datasets for bert-base-uncased...\n"
     ]
    },
    {
     "name": "stderr",
     "output_type": "stream",
     "text": [
      "Map: 100%|██████████| 195147/195147 [00:19<00:00, 9998.58 examples/s] \n",
      "Map: 100%|██████████| 21684/21684 [00:01<00:00, 11798.40 examples/s]\n",
      "Map: 100%|██████████| 24093/24093 [00:03<00:00, 7447.92 examples/s] \n",
      "Saving the dataset (1/1 shards): 100%|██████████| 195147/195147 [00:00<00:00, 530289.69 examples/s]\n",
      "Saving the dataset (1/1 shards): 100%|██████████| 21684/21684 [00:00<00:00, 468012.25 examples/s]\n",
      "Saving the dataset (1/1 shards): 100%|██████████| 24093/24093 [00:00<00:00, 453636.22 examples/s]\n"
     ]
    },
    {
     "name": "stdout",
     "output_type": "stream",
     "text": [
      "Datasets tokenized and saved under /kaggle/working/tokenized_bert-base-uncased\n",
      "Tokenizing and saving datasets for roberta-base...\n"
     ]
    },
    {
     "name": "stderr",
     "output_type": "stream",
     "text": [
      "Map: 100%|██████████| 195147/195147 [00:14<00:00, 13197.26 examples/s]\n",
      "Map: 100%|██████████| 21684/21684 [00:01<00:00, 13928.89 examples/s]\n",
      "Map: 100%|██████████| 24093/24093 [00:01<00:00, 14064.88 examples/s]\n",
      "Saving the dataset (1/1 shards): 100%|██████████| 195147/195147 [00:00<00:00, 590797.66 examples/s]\n",
      "Saving the dataset (1/1 shards): 100%|██████████| 21684/21684 [00:00<00:00, 524179.22 examples/s]\n",
      "Saving the dataset (1/1 shards): 100%|██████████| 24093/24093 [00:00<00:00, 538411.44 examples/s]\n"
     ]
    },
    {
     "name": "stdout",
     "output_type": "stream",
     "text": [
      "Datasets tokenized and saved under /kaggle/working/tokenized_roberta-base\n",
      "Tokenizing and saving datasets for distilbert-base-uncased...\n"
     ]
    },
    {
     "name": "stderr",
     "output_type": "stream",
     "text": [
      "Map: 100%|██████████| 195147/195147 [00:13<00:00, 14180.58 examples/s]\n",
      "Map: 100%|██████████| 21684/21684 [00:01<00:00, 14969.51 examples/s]\n",
      "Map: 100%|██████████| 24093/24093 [00:01<00:00, 14929.19 examples/s]\n",
      "Saving the dataset (1/1 shards): 100%|██████████| 195147/195147 [00:00<00:00, 614811.44 examples/s]\n",
      "Saving the dataset (1/1 shards): 100%|██████████| 21684/21684 [00:00<00:00, 540303.50 examples/s]\n",
      "Saving the dataset (1/1 shards): 100%|██████████| 24093/24093 [00:00<00:00, 552029.23 examples/s]\n"
     ]
    },
    {
     "name": "stdout",
     "output_type": "stream",
     "text": [
      "Datasets tokenized and saved under /kaggle/working/tokenized_distilbert-base-uncased\n",
      "Tokenizing and saving datasets for vinai/bertweet-base...\n"
     ]
    },
    {
     "name": "stderr",
     "output_type": "stream",
     "text": [
      "emoji is not installed, thus not converting emoticons or emojis into text. Install emoji: pip3 install emoji==0.6.0\n",
      "Map: 100%|██████████| 195147/195147 [00:51<00:00, 3803.42 examples/s]\n",
      "Map: 100%|██████████| 21684/21684 [00:06<00:00, 3544.16 examples/s]\n",
      "Map: 100%|██████████| 24093/24093 [00:06<00:00, 3532.20 examples/s]\n",
      "Saving the dataset (1/1 shards): 100%|██████████| 195147/195147 [00:00<00:00, 507111.49 examples/s]\n",
      "Saving the dataset (1/1 shards): 100%|██████████| 21684/21684 [00:00<00:00, 415859.42 examples/s]\n",
      "Saving the dataset (1/1 shards): 100%|██████████| 24093/24093 [00:00<00:00, 436229.20 examples/s]\n"
     ]
    },
    {
     "name": "stdout",
     "output_type": "stream",
     "text": [
      "Datasets tokenized and saved under /kaggle/working/tokenized_vinai_bertweet-base\n"
     ]
    }
   ],
   "source": [
    "models = [\n",
    "    \"bert-base-uncased\",\n",
    "    \"roberta-base\",\n",
    "    \"distilbert-base-uncased\",\n",
    "    \"vinai/bertweet-base\"\n",
    "]\n",
    "\n",
    "for model_name in models:\n",
    "    tokenize_and_save(model_name, train_ds, val_ds, test_ds, max_length=128)"
   ]
  },
  {
   "cell_type": "markdown",
   "metadata": {},
   "source": [
    "# Training Phase"
   ]
  },
  {
   "cell_type": "code",
   "execution_count": 23,
   "metadata": {
    "execution": {
     "iopub.execute_input": "2025-06-23T01:44:37.932070Z",
     "iopub.status.busy": "2025-06-23T01:44:37.931789Z",
     "iopub.status.idle": "2025-06-23T01:44:37.946040Z",
     "shell.execute_reply": "2025-06-23T01:44:37.941275Z",
     "shell.execute_reply.started": "2025-06-23T01:44:37.932044Z"
    }
   },
   "outputs": [],
   "source": [
    "class EpochLoggerAndBestModelCallback(TrainerCallback):\n",
    "    def __init__(self, trainer=None, metric_name=\"eval_accuracy\", output_dir=\"./best_model\"):\n",
    "        self.trainer = trainer\n",
    "        self.metric_name = metric_name\n",
    "        self.best_metric = None\n",
    "        self.best_model_path = output_dir\n",
    "        self.epoch_start_time = None\n",
    "        os.makedirs(self.best_model_path, exist_ok=True)\n",
    "\n",
    "    def on_epoch_begin(self, args, state, control, **kwargs):\n",
    "        self.epoch_start_time = time.time()\n",
    "        print(f\"\\n🟢 Epoch {int(state.epoch)+1}/{int(args.num_train_epochs)} started...\")\n",
    "\n",
    "    def on_epoch_end(self, args, state, control, logs=None, **kwargs):\n",
    "        epoch_time = time.time() - self.epoch_start_time\n",
    "        print(f\"✅ Epoch {int(state.epoch)+1} finished in {epoch_time:.2f}s\")\n",
    "\n",
    "        if logs is None or self.metric_name not in logs:\n",
    "            print(\"⚠️ Warning: No evaluation metrics found at epoch end.\")\n",
    "            return\n",
    "\n",
    "        current_metric = logs[self.metric_name]\n",
    "        print(f\"\\n📊 Epoch {int(state.epoch)+1} - {self.metric_name}: {current_metric}\")\n",
    "\n",
    "        if (self.best_metric is None) or (current_metric > self.best_metric):\n",
    "            self.best_metric = current_metric\n",
    "            print(f\"🔥 New best {self.metric_name}: {self.best_metric} - saving model...\")\n",
    "            self.trainer.save_model(self.best_model_path)\n",
    "\n",
    "    def on_train_end(self, args, state, control, **kwargs):\n",
    "        print(f\"\\n✅ Training finished. Best {self.metric_name}: {self.best_metric}\")\n",
    "        print(f\"📂 Best model saved at: {self.best_model_path}\")\n",
    "\n",
    "        # Load best model back into trainer.model\n",
    "        if self.trainer is not None:\n",
    "            self.trainer.model = self.trainer.model.from_pretrained(self.best_model_path)"
   ]
  },
  {
   "cell_type": "code",
   "execution_count": 24,
   "metadata": {
    "execution": {
     "iopub.execute_input": "2025-06-23T01:44:37.947244Z",
     "iopub.status.busy": "2025-06-23T01:44:37.947038Z",
     "iopub.status.idle": "2025-06-23T01:44:37.957716Z",
     "shell.execute_reply": "2025-06-23T01:44:37.954163Z",
     "shell.execute_reply.started": "2025-06-23T01:44:37.947224Z"
    }
   },
   "outputs": [],
   "source": [
    "def compute_metrics(eval_pred):\n",
    "    logits, labels = eval_pred\n",
    "    preds = np.argmax(logits, axis=1)\n",
    "    \n",
    "    acc = accuracy_score(labels, preds)\n",
    "    precision, recall, f1, _ = precision_recall_fscore_support(\n",
    "        labels, preds, average='macro', zero_division=0\n",
    "    )\n",
    "    \n",
    "    return {\n",
    "        \"accuracy\": acc,\n",
    "        \"macro_precision\": precision,\n",
    "        \"macro_recall\": recall,\n",
    "        \"macro_f1\": f1\n",
    "    }"
   ]
  },
  {
   "cell_type": "code",
   "execution_count": 25,
   "metadata": {
    "execution": {
     "iopub.execute_input": "2025-06-23T01:44:37.961323Z",
     "iopub.status.busy": "2025-06-23T01:44:37.961069Z",
     "iopub.status.idle": "2025-06-23T01:44:37.979904Z",
     "shell.execute_reply": "2025-06-23T01:44:37.975125Z",
     "shell.execute_reply.started": "2025-06-23T01:44:37.961300Z"
    }
   },
   "outputs": [],
   "source": [
    "def train_model(\n",
    "    model_name,\n",
    "    num_labels,\n",
    "    train_dataset,\n",
    "    val_dataset,\n",
    "    num_epochs=3,\n",
    "    train_batch_size=16,\n",
    "    eval_batch_size=32,\n",
    "    learning_rate=2e-5,\n",
    "    weight_decay=0.01,\n",
    "    logging_steps=500,\n",
    "    output_root=\"./results\",\n",
    "    log_root=\"./logs\"\n",
    "):\n",
    "    print(f\"\\n🚀 Starting training for model: {model_name}\")\n",
    "\n",
    "    model = AutoModelForSequenceClassification.from_pretrained(\n",
    "        model_name, num_labels=num_labels\n",
    "    )\n",
    "\n",
    "    model_tag = model_name.replace(\"/\", \"_\")\n",
    "    output_dir = f\"{output_root}/{model_tag}\"\n",
    "    logging_dir = f\"{log_root}/{model_tag}\"\n",
    "\n",
    "    training_args = TrainingArguments(\n",
    "        output_dir=output_dir,\n",
    "        learning_rate=learning_rate,\n",
    "        per_device_train_batch_size=train_batch_size,\n",
    "        per_device_eval_batch_size=eval_batch_size,\n",
    "        num_train_epochs=num_epochs,\n",
    "        weight_decay=weight_decay,\n",
    "        metric_for_best_model=\"accuracy\",\n",
    "        logging_dir=logging_dir,\n",
    "        logging_steps=logging_steps,\n",
    "        save_total_limit=2,\n",
    "        report_to=\"none\"  \n",
    "    )\n",
    "\n",
    "    trainer = Trainer(\n",
    "        model=model,\n",
    "        args=training_args,\n",
    "        train_dataset=train_dataset,\n",
    "        eval_dataset=val_dataset,\n",
    "        compute_metrics=compute_metrics,\n",
    "        callbacks=[EpochLoggerAndBestModelCallback()]\n",
    "    )\n",
    "\n",
    "    trainer.train()\n",
    "    final_metrics = trainer.evaluate()\n",
    "    print(f\"\\n📊 Final validation results for {model_tag}: {final_metrics}\")\n",
    "    return final_metrics"
   ]
  },
  {
   "cell_type": "markdown",
   "metadata": {},
   "source": [
    "## BERT "
   ]
  },
  {
   "cell_type": "code",
   "execution_count": null,
   "metadata": {
    "execution": {
     "execution_failed": "2025-06-23T01:49:30.721Z",
     "iopub.execute_input": "2025-06-23T01:44:37.982926Z",
     "iopub.status.busy": "2025-06-23T01:44:37.982660Z"
    }
   },
   "outputs": [
    {
     "name": "stdout",
     "output_type": "stream",
     "text": [
      "\n",
      "🚀 Starting training for model: bert-base-uncased\n"
     ]
    },
    {
     "name": "stderr",
     "output_type": "stream",
     "text": [
      "Some weights of BertForSequenceClassification were not initialized from the model checkpoint at bert-base-uncased and are newly initialized: ['classifier.bias', 'classifier.weight']\n",
      "You should probably TRAIN this model on a down-stream task to be able to use it for predictions and inference.\n",
      "WARNING: Logging before InitGoogle() is written to STDERR\n",
      "E0000 00:00:1750643083.695158      10 common_lib.cc:621] Could not set metric server port: INVALID_ARGUMENT: Could not find SliceBuilder port 8471 in any of the 0 ports provided in `tpu_process_addresses`=\"local\"\n",
      "=== Source Location Trace: ===\n",
      "learning/45eac/tfrc/runtime/common_lib.cc:232\n",
      "WARNING:root:torch_xla.core.xla_model.xrt_world_size() will be removed in release 2.7. is deprecated. Use torch_xla.runtime.world_size instead.\n",
      "WARNING:root:torch_xla.core.xla_model.xla_model.get_ordinal() will be removed in release 2.7. is deprecated. Use torch_xla.runtime.global_ordinal instead.\n"
     ]
    },
    {
     "name": "stdout",
     "output_type": "stream",
     "text": [
      "\n",
      "🟢 Epoch 1/3 started...\n"
     ]
    },
    {
     "data": {
      "text/html": [
       "\n",
       "    <div>\n",
       "      \n",
       "      <progress value='17' max='4575' style='width:300px; height:20px; vertical-align: middle;'></progress>\n",
       "      [  17/4575 01:31 < 7:42:06, 0.16 it/s, Epoch 0.01/3]\n",
       "    </div>\n",
       "    <table border=\"1\" class=\"dataframe\">\n",
       "  <thead>\n",
       " <tr style=\"text-align: left;\">\n",
       "      <th>Step</th>\n",
       "      <th>Training Loss</th>\n",
       "    </tr>\n",
       "  </thead>\n",
       "  <tbody>\n",
       "  </tbody>\n",
       "</table><p>"
      ],
      "text/plain": [
       "<IPython.core.display.HTML object>"
      ]
     },
     "metadata": {},
     "output_type": "display_data"
    }
   ],
   "source": [
    "model_name = \"bert-base-uncased\"\n",
    "load_dir = f\"/kaggle/working/tokenized_{model_name.replace('/', '_')}\"\n",
    "\n",
    "tokenized_train = load_from_disk(os.path.join(load_dir, \"train\"))\n",
    "tokenized_val = load_from_disk(os.path.join(load_dir, \"val\"))\n",
    "tokenized_test = load_from_disk(os.path.join(load_dir, \"test\"))\n",
    "\n",
    "bert_metrics=train_model(model_name, 3, tokenized_train, tokenized_val)"
   ]
  },
  {
   "cell_type": "markdown",
   "metadata": {},
   "source": [
    "## distlibert "
   ]
  },
  {
   "cell_type": "code",
   "execution_count": null,
   "metadata": {
    "execution": {
     "execution_failed": "2025-06-23T01:49:30.722Z"
    }
   },
   "outputs": [],
   "source": [
    "model_name = \"distilbert-base-uncased\"\n",
    "load_dir = f\"/kaggle/working/tokenized_{model_name.replace('/', '_')}\"\n",
    "\n",
    "tokenized_train = load_from_disk(os.path.join(load_dir, \"train\"))\n",
    "tokenized_val = load_from_disk(os.path.join(load_dir, \"val\"))\n",
    "tokenized_test = load_from_disk(os.path.join(load_dir, \"test\"))\n",
    "\n",
    "distlibert_metrics=train_model(model_name, 3, tokenized_train, tokenized_val)"
   ]
  },
  {
   "cell_type": "markdown",
   "metadata": {},
   "source": [
    "## roberta "
   ]
  },
  {
   "cell_type": "code",
   "execution_count": null,
   "metadata": {
    "execution": {
     "execution_failed": "2025-06-23T01:49:30.722Z"
    }
   },
   "outputs": [],
   "source": [
    "model_name = \"roberta-base\"\n",
    "load_dir = f\"/kaggle/working/tokenized_{model_name.replace('/', '_')}\"\n",
    "\n",
    "tokenized_train = load_from_disk(os.path.join(load_dir, \"train\"))\n",
    "tokenized_val = load_from_disk(os.path.join(load_dir, \"val\"))\n",
    "tokenized_test = load_from_disk(os.path.join(load_dir, \"test\"))\n",
    "\n",
    "roberta_metrics=train_model(model_name, 3, tokenized_train, tokenized_val)"
   ]
  },
  {
   "cell_type": "markdown",
   "metadata": {},
   "source": [
    "## Bertweet"
   ]
  },
  {
   "cell_type": "code",
   "execution_count": null,
   "metadata": {
    "execution": {
     "execution_failed": "2025-06-23T01:49:30.722Z"
    }
   },
   "outputs": [],
   "source": [
    "model_name = \"vinai/bertweet-base\"\n",
    "load_dir = f\"/kaggle/working/tokenized_{model_name.replace('/', '_')}\"\n",
    "\n",
    "tokenized_train = load_from_disk(os.path.join(load_dir, \"train\"))\n",
    "tokenized_val = load_from_disk(os.path.join(load_dir, \"val\"))\n",
    "tokenized_test = load_from_disk(os.path.join(load_dir, \"test\"))\n",
    "\n",
    "bertweet_metrics=train_model(model_name, 3, tokenized_train, tokenized_val)"
   ]
  },
  {
   "cell_type": "markdown",
   "metadata": {},
   "source": [
    "## Comparting Models"
   ]
  },
  {
   "cell_type": "code",
   "execution_count": null,
   "metadata": {
    "execution": {
     "execution_failed": "2025-06-23T01:49:30.722Z"
    }
   },
   "outputs": [],
   "source": [
    "metrics_list = [\n",
    "    {**bert_metrics, \"model\": \"bert-base-uncased\"},\n",
    "    {**roberta_metrics, \"model\": \"roberta-base\"},\n",
    "    {**distlibert_metrics, \"model\": \"distilbert-base-uncased\"},\n",
    "    {**bertweet_metrics, \"model\": \"vinai/bertweet-base\"}\n",
    "]\n",
    "df = pd.DataFrame(metrics_list)"
   ]
  },
  {
   "cell_type": "code",
   "execution_count": null,
   "metadata": {
    "execution": {
     "execution_failed": "2025-06-23T01:49:30.722Z"
    }
   },
   "outputs": [],
   "source": [
    "df = df.sort_values(by=\"macro_f1\", ascending=False)"
   ]
  },
  {
   "cell_type": "code",
   "execution_count": null,
   "metadata": {
    "execution": {
     "execution_failed": "2025-06-23T01:49:30.722Z"
    }
   },
   "outputs": [],
   "source": [
    "df = df[['model', 'accuracy', 'macro_precision', 'macro_recall', 'macro_f1']]"
   ]
  },
  {
   "cell_type": "code",
   "execution_count": null,
   "metadata": {
    "execution": {
     "execution_failed": "2025-06-23T01:49:30.723Z"
    }
   },
   "outputs": [],
   "source": [
    "df"
   ]
  }
 ],
 "metadata": {
  "kaggle": {
   "accelerator": "none",
   "dataSources": [
    {
     "datasetId": 7321691,
     "sourceId": 11666175,
     "sourceType": "datasetVersion"
    }
   ],
   "dockerImageVersionId": 31040,
   "isGpuEnabled": false,
   "isInternetEnabled": true,
   "language": "python",
   "sourceType": "notebook"
  },
  "kernelspec": {
   "display_name": "Python 3 (ipykernel)",
   "language": "python",
   "name": "python3"
  },
  "language_info": {
   "codemirror_mode": {
    "name": "ipython",
    "version": 3
   },
   "file_extension": ".py",
   "mimetype": "text/x-python",
   "name": "python",
   "nbconvert_exporter": "python",
   "pygments_lexer": "ipython3",
   "version": "3.13.4"
  }
 },
 "nbformat": 4,
 "nbformat_minor": 4
}
